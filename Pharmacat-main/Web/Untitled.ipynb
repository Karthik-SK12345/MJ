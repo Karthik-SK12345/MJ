{
 "cells": [
  {
   "cell_type": "code",
   "execution_count": 2,
   "id": "f44abe32",
   "metadata": {},
   "outputs": [
    {
     "name": "stdout",
     "output_type": "stream",
     "text": [
      "Collecting pyreadstat\n",
      "  Downloading pyreadstat-1.2.1-cp39-cp39-win_amd64.whl (2.4 MB)\n",
      "Requirement already satisfied: pandas>=1.2.0 in e:\\anaconda\\lib\\site-packages (from pyreadstat) (1.4.2)\n",
      "Requirement already satisfied: python-dateutil>=2.8.1 in e:\\anaconda\\lib\\site-packages (from pandas>=1.2.0->pyreadstat) (2.8.2)\n",
      "Requirement already satisfied: pytz>=2020.1 in e:\\anaconda\\lib\\site-packages (from pandas>=1.2.0->pyreadstat) (2021.3)\n",
      "Requirement already satisfied: numpy>=1.18.5 in e:\\anaconda\\lib\\site-packages (from pandas>=1.2.0->pyreadstat) (1.21.5)\n",
      "Requirement already satisfied: six>=1.5 in e:\\anaconda\\lib\\site-packages (from python-dateutil>=2.8.1->pandas>=1.2.0->pyreadstat) (1.16.0)\n",
      "Installing collected packages: pyreadstat\n",
      "Successfully installed pyreadstat-1.2.1\n",
      "Note: you may need to restart the kernel to use updated packages.\n"
     ]
    }
   ],
   "source": [
    "pip install pyreadstat"
   ]
  },
  {
   "cell_type": "code",
   "execution_count": 3,
   "id": "91b2b173",
   "metadata": {},
   "outputs": [
    {
     "ename": "ReadstatError",
     "evalue": "Invalid file, or file has unsupported features",
     "output_type": "error",
     "traceback": [
      "\u001b[1;31m---------------------------------------------------------------------------\u001b[0m",
      "\u001b[1;31mReadstatError\u001b[0m                             Traceback (most recent call last)",
      "Input \u001b[1;32mIn [3]\u001b[0m, in \u001b[0;36m<cell line: 4>\u001b[1;34m()\u001b[0m\n\u001b[0;32m      1\u001b[0m \u001b[38;5;28;01mimport\u001b[39;00m \u001b[38;5;21;01mpyreadstat\u001b[39;00m\n\u001b[0;32m      3\u001b[0m \u001b[38;5;66;03m# Load the .sav file\u001b[39;00m\n\u001b[1;32m----> 4\u001b[0m df, meta \u001b[38;5;241m=\u001b[39m \u001b[43mpyreadstat\u001b[49m\u001b[38;5;241;43m.\u001b[39;49m\u001b[43mread_sav\u001b[49m\u001b[43m(\u001b[49m\u001b[38;5;124;43m'\u001b[39;49m\u001b[38;5;124;43mdisease_predict.sav\u001b[39;49m\u001b[38;5;124;43m'\u001b[39;49m\u001b[43m)\u001b[49m\n\u001b[0;32m      6\u001b[0m \u001b[38;5;66;03m# Access the data and metadata\u001b[39;00m\n\u001b[0;32m      7\u001b[0m \u001b[38;5;28mprint\u001b[39m(df\u001b[38;5;241m.\u001b[39mhead())\n",
      "File \u001b[1;32mpyreadstat\\pyreadstat.pyx:384\u001b[0m, in \u001b[0;36mpyreadstat.pyreadstat.read_sav\u001b[1;34m()\u001b[0m\n",
      "File \u001b[1;32mpyreadstat\\_readstat_parser.pyx:1128\u001b[0m, in \u001b[0;36mpyreadstat._readstat_parser.run_conversion\u001b[1;34m()\u001b[0m\n",
      "File \u001b[1;32mpyreadstat\\_readstat_parser.pyx:873\u001b[0m, in \u001b[0;36mpyreadstat._readstat_parser.run_readstat_parser\u001b[1;34m()\u001b[0m\n",
      "File \u001b[1;32mpyreadstat\\_readstat_parser.pyx:803\u001b[0m, in \u001b[0;36mpyreadstat._readstat_parser.check_exit_status\u001b[1;34m()\u001b[0m\n",
      "\u001b[1;31mReadstatError\u001b[0m: Invalid file, or file has unsupported features"
     ]
    }
   ],
   "source": [
    "import pyreadstat\n",
    "\n",
    "# Load the .sav file\n",
    "df, meta = pyreadstat.read_sav('disease_predict.sav')\n",
    "\n",
    "# Access the data and metadata\n",
    "print(df.head())\n",
    "print(meta)\n"
   ]
  },
  {
   "cell_type": "code",
   "execution_count": null,
   "id": "c094d61a",
   "metadata": {},
   "outputs": [],
   "source": []
  }
 ],
 "metadata": {
  "kernelspec": {
   "display_name": "Python 3 (ipykernel)",
   "language": "python",
   "name": "python3"
  },
  "language_info": {
   "codemirror_mode": {
    "name": "ipython",
    "version": 3
   },
   "file_extension": ".py",
   "mimetype": "text/x-python",
   "name": "python",
   "nbconvert_exporter": "python",
   "pygments_lexer": "ipython3",
   "version": "3.9.12"
  }
 },
 "nbformat": 4,
 "nbformat_minor": 5
}
